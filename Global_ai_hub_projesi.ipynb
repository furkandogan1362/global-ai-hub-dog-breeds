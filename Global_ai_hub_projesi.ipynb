{
  "nbformat": 4,
  "nbformat_minor": 0,
  "metadata": {
    "colab": {
      "provenance": [],
      "gpuType": "T4"
    },
    "kernelspec": {
      "name": "python3",
      "display_name": "Python 3"
    },
    "language_info": {
      "name": "python"
    },
    "accelerator": "GPU"
  },
  "cells": [
    {
      "cell_type": "code",
      "execution_count": 1,
      "metadata": {
        "colab": {
          "base_uri": "https://localhost:8080/"
        },
        "id": "-2w7D8yc0WFv",
        "outputId": "b363a28b-c6cd-43b1-8817-3b8df3c187a1"
      },
      "outputs": [
        {
          "output_type": "stream",
          "name": "stdout",
          "text": [
            "Drive already mounted at /content/drive; to attempt to forcibly remount, call drive.mount(\"/content/drive\", force_remount=True).\n",
            "Archive:  /content/drive/MyDrive/furkan.zip\n",
            "replace /content/labels.csv? [y]es, [n]o, [A]ll, [N]one, [r]ename: "
          ]
        }
      ],
      "source": [
        "# PANDAS VE NUMPY KÜTÜPHANELERİNİ İÇE AKTARMA\n",
        "import pandas as pd\n",
        "import numpy as np\n",
        "\n",
        "# SEABORN, MATPLOTLIB, SKLEARN VE TENSORFLOW KÜTÜPHANELERİNİ İÇE AKTARMA\n",
        "import seaborn as sns\n",
        "import matplotlib.pyplot as plt\n",
        "from sklearn.model_selection import train_test_split\n",
        "from sklearn.preprocessing import LabelEncoder\n",
        "from sklearn.metrics import accuracy_score, confusion_matrix, classification_report\n",
        "from tensorflow import keras\n",
        "from tensorflow.keras.models import Sequential\n",
        "from tensorflow.keras.layers import Conv2D, MaxPooling2D, Flatten, Dense, Dropout\n",
        "from tensorflow.keras.preprocessing.image import load_img, img_to_array, ImageDataGenerator\n",
        "\n",
        "# GOOGLE DRIVE BAĞLANTISI\n",
        "from google.colab import drive\n",
        "drive.mount('/content/drive')\n",
        "\n",
        "# VERİ SETİNİ ÇIKARMA (FURKAN.ZIP ADLI DOSYAYI /CONTENT/ DİZİNİNE ÇIKARMA)\n",
        "!unzip \"/content/drive/MyDrive/furkan.zip\" -d \"/content/\"\n"
      ]
    },
    {
      "cell_type": "code",
      "source": [
        "# ETİKETLERİ İÇEREN CSV DOSYASINI YÜKLEME\n",
        "labels_df = pd.read_csv(\"/content/labels.csv\")\n",
        "\n",
        "# EĞİTİM SETİNDEKİ GÖRÜNTÜLERİ İÇEREN DOSYAYI YÜKLEME\n",
        "train_path = \"/content/train/\"\n",
        "train_df = labels_df.copy()\n",
        "train_df['filename'] = train_df.apply(lambda x: (train_path + x[\"id\"] + \".jpg\"), axis=1)\n",
        "\n",
        "# KATEGORİK KODLAMAYI YAPMA\n",
        "label_encoder = LabelEncoder()\n",
        "train_df['breed_encoded'] = label_encoder.fit_transform(train_df['breed'])\n",
        "\n",
        "# VERİYİ EĞİTİM VE DOĞRULAMA OLARAK BÖLELİM\n",
        "X_train, X_val, y_train, y_val = train_test_split(train_df['filename'], train_df['breed_encoded'], test_size=0.2, random_state=42)\n",
        "\n",
        "# GÖRÜNTÜLERİ YÜKLEYİP NORMALİZE ETME\n",
        "def preprocess_image(file_path):\n",
        "    img = load_img(file_path, target_size=(128, 128))\n",
        "    img_array = img_to_array(img)\n",
        "    return img_array / 255.0\n",
        "\n",
        "X_train = np.array([preprocess_image(img_path) for img_path in X_train])\n",
        "X_val = np.array([preprocess_image(img_path) for img_path in X_val])\n",
        "\n",
        "# MODELİN GİRİŞ ŞEKLİNİ TANIMLAMA\n",
        "input_shape = (128, 128, 3)\n",
        "\n",
        "# MODELİ OLUŞTURMA\n",
        "model = Sequential()\n",
        "model.add(Conv2D(32, (3, 3), activation='relu', input_shape=input_shape))\n",
        "model.add(MaxPooling2D((2, 2)))\n",
        "model.add(Conv2D(64, (3, 3), activation='relu'))\n",
        "model.add(MaxPooling2D((2, 2)))\n",
        "model.add(Conv2D(128, (3, 3), activation='relu'))\n",
        "model.add(MaxPooling2D((2, 2)))\n",
        "model.add(Flatten())\n",
        "model.add(Dense(128, activation='relu'))\n",
        "model.add(Dropout(0.5))\n",
        "model.add(Dense(len(label_encoder.classes_), activation='softmax'))\n",
        "\n",
        "# MODELİ DERLEME\n",
        "model.compile(optimizer='adam', loss='sparse_categorical_crossentropy', metrics=['accuracy'])\n",
        "\n",
        "# MODELİN ÖZETİNİ YAZDIRMA\n",
        "model.summary()\n",
        "\n",
        "# MODELİ EĞİTME\n",
        "history = model.fit(X_train, y_train, epochs=10, validation_data=(X_val, y_val))\n",
        "\n",
        "# EĞİTİM VE DOĞRULAMA DOĞRULUĞUNU, KAYBINI VE DOĞRULAMA KAYBINI ÇİZME\n",
        "plt.plot(history.history['accuracy'], label='accuracy')\n",
        "plt.plot(history.history['val_accuracy'], label='val_accuracy')\n",
        "plt.xlabel('Epoch')\n",
        "plt.ylabel('Accuracy')\n",
        "plt.ylim([0, 1])\n",
        "plt.legend(loc='lower right')\n",
        "plt.show()\n",
        "\n",
        "# MODELİN DOĞRULUĞUNU DEĞERLENDİRME\n",
        "y_pred = np.argmax(model.predict(X_val), axis=1)\n",
        "val_accuracy = accuracy_score(y_val, y_pred)\n",
        "print(f\"Validation Accuracy: {val_accuracy}\")\n"
      ],
      "metadata": {
        "colab": {
          "base_uri": "https://localhost:8080/",
          "height": 1000
        },
        "id": "kp6aw5XJ0nUa",
        "outputId": "bca5a172-de32-4539-e23c-8407c0bad0c1"
      },
      "execution_count": 2,
      "outputs": [
        {
          "output_type": "stream",
          "name": "stdout",
          "text": [
            "Model: \"sequential\"\n",
            "_________________________________________________________________\n",
            " Layer (type)                Output Shape              Param #   \n",
            "=================================================================\n",
            " conv2d (Conv2D)             (None, 126, 126, 32)      896       \n",
            "                                                                 \n",
            " max_pooling2d (MaxPooling2  (None, 63, 63, 32)        0         \n",
            " D)                                                              \n",
            "                                                                 \n",
            " conv2d_1 (Conv2D)           (None, 61, 61, 64)        18496     \n",
            "                                                                 \n",
            " max_pooling2d_1 (MaxPoolin  (None, 30, 30, 64)        0         \n",
            " g2D)                                                            \n",
            "                                                                 \n",
            " conv2d_2 (Conv2D)           (None, 28, 28, 128)       73856     \n",
            "                                                                 \n",
            " max_pooling2d_2 (MaxPoolin  (None, 14, 14, 128)       0         \n",
            " g2D)                                                            \n",
            "                                                                 \n",
            " flatten (Flatten)           (None, 25088)             0         \n",
            "                                                                 \n",
            " dense (Dense)               (None, 128)               3211392   \n",
            "                                                                 \n",
            " dropout (Dropout)           (None, 128)               0         \n",
            "                                                                 \n",
            " dense_1 (Dense)             (None, 120)               15480     \n",
            "                                                                 \n",
            "=================================================================\n",
            "Total params: 3320120 (12.67 MB)\n",
            "Trainable params: 3320120 (12.67 MB)\n",
            "Non-trainable params: 0 (0.00 Byte)\n",
            "_________________________________________________________________\n",
            "Epoch 1/10\n",
            "256/256 [==============================] - 20s 26ms/step - loss: 4.7880 - accuracy: 0.0099 - val_loss: 4.7851 - val_accuracy: 0.0127\n",
            "Epoch 2/10\n",
            "256/256 [==============================] - 6s 22ms/step - loss: 4.7853 - accuracy: 0.0110 - val_loss: 4.7846 - val_accuracy: 0.0098\n",
            "Epoch 3/10\n",
            "256/256 [==============================] - 6s 22ms/step - loss: 4.7827 - accuracy: 0.0121 - val_loss: 4.7840 - val_accuracy: 0.0098\n",
            "Epoch 4/10\n",
            "256/256 [==============================] - 5s 21ms/step - loss: 4.7804 - accuracy: 0.0115 - val_loss: 4.7836 - val_accuracy: 0.0098\n",
            "Epoch 5/10\n",
            "256/256 [==============================] - 6s 23ms/step - loss: 4.7796 - accuracy: 0.0103 - val_loss: 4.7834 - val_accuracy: 0.0098\n",
            "Epoch 6/10\n",
            "256/256 [==============================] - 6s 22ms/step - loss: 4.7782 - accuracy: 0.0122 - val_loss: 4.7836 - val_accuracy: 0.0098\n",
            "Epoch 7/10\n",
            "256/256 [==============================] - 5s 21ms/step - loss: 4.7783 - accuracy: 0.0099 - val_loss: 4.7783 - val_accuracy: 0.0171\n",
            "Epoch 8/10\n",
            "256/256 [==============================] - 6s 24ms/step - loss: 4.7484 - accuracy: 0.0183 - val_loss: 4.7129 - val_accuracy: 0.0249\n",
            "Epoch 9/10\n",
            "256/256 [==============================] - 5s 21ms/step - loss: 4.6572 - accuracy: 0.0242 - val_loss: 4.6386 - val_accuracy: 0.0264\n",
            "Epoch 10/10\n",
            "256/256 [==============================] - 5s 21ms/step - loss: 4.5485 - accuracy: 0.0311 - val_loss: 4.5813 - val_accuracy: 0.0308\n"
          ]
        },
        {
          "output_type": "display_data",
          "data": {
            "text/plain": [
              "<Figure size 640x480 with 1 Axes>"
            ],
            "image/png": "[encoded data removed]"
          },
          "metadata": {}
        },
        {
          "output_type": "stream",
          "name": "stdout",
          "text": [
            "64/64 [==============================] - 1s 8ms/step\n",
            "Validation Accuracy: 0.03080684596577017\n"
          ]
        }
      ]
    },
    {
      "cell_type": "code",
      "source": [
        "# EN İYİ DOĞRULAMA DOĞRULUĞU, EPOKLAR VE DROPOUT ORANI İÇİN DEĞİŞKENLERİ BAŞLATMA\n",
        "best_val_accuracy = 0\n",
        "best_epochs = 0\n",
        "best_dropout_rate = 0\n",
        "\n",
        "# DAHA BASİT BİR MODEL VE KISA EĞİTİM SÜRELERİ İÇİN DÖNGÜ\n",
        "for epochs in [3, 5]:\n",
        "    for dropout_rate in [0.3, 0.5]:\n",
        "        # YENİ MODELİ OLUŞTURMA\n",
        "        model = Sequential()\n",
        "        model.add(Conv2D(32, (3, 3), activation='relu', input_shape=input_shape))\n",
        "        model.add(MaxPooling2D((2, 2)))\n",
        "        model.add(Flatten())\n",
        "        model.add(Dense(64, activation='relu'))\n",
        "        model.add(Dropout(dropout_rate))\n",
        "        model.add(Dense(len(label_encoder.classes_), activation='softmax'))\n",
        "\n",
        "        # MODELİ DERLEME\n",
        "        model.compile(optimizer='adam', loss='sparse_categorical_crossentropy', metrics=['accuracy'])\n",
        "\n",
        "        # MODELİ EĞİTME\n",
        "        history = model.fit(X_train, y_train, epochs=epochs, validation_data=(X_val, y_val), verbose=0, batch_size=32)\n",
        "\n",
        "        # SON EPOKA İÇİN DOĞRULAMA DOĞRULUĞU\n",
        "        val_accuracy = history.history['val_accuracy'][-1]\n",
        "\n",
        "        # SONUÇLARI YAZDIRMA\n",
        "        print(f\"Epochs: {epochs}, Dropout: {dropout_rate}, Validation Accuracy: {val_accuracy}\")\n",
        "\n",
        "        # EN İYİ DOĞRULAMA DOĞRULUĞUNU KARŞILAŞTIRMA VE GÜNCELLEME\n",
        "        if val_accuracy > best_val_accuracy:\n",
        "            best_val_accuracy = val_accuracy\n",
        "            best_epochs = epochs\n",
        "            best_dropout_rate = dropout_rate\n",
        "\n",
        "# EN İYİ DOĞRULAMA DOĞRULUĞU, EPOKLAR VE DROPOUT ORANI İLE SONUCU YAZDIRMA\n",
        "print(f\"Best Validation Accuracy: {best_val_accuracy} with Epochs: {best_epochs}, Dropout: {best_dropout_rate}\")\n"
      ],
      "metadata": {
        "colab": {
          "base_uri": "https://localhost:8080/"
        },
        "id": "zGxnJBpz2U_l",
        "outputId": "a87407cc-7794-49bf-aaf5-dcedf0418c47"
      },
      "execution_count": null,
      "outputs": [
        {
          "output_type": "stream",
          "name": "stdout",
          "text": [
            "Epochs: 3, Dropout: 0.3, Validation Accuracy: 0.00977995153516531\n"
          ]
        }
      ]
    },
    {
      "cell_type": "markdown",
      "source": [
        "NOT: YURAKIDAKİ SATIRDA SÜREKLİ YÜKSEK BELLEK KULLANIMINDAN ÖTÜRÜ HATA VERİP PROGRAM ÇALIŞMAYI DURDURUYORDU.BİR TÜRLÜ BU DURUMU ÇÖZEMEDİM. EPOCH SAYISINI AZALTTIM OLMADI. PARAMETRELERİ DÜŞÜRDÜM OLMADI. BATCH SİZE'I DÜŞÜRDÜM OLMADI. BİRKAÇ KOMBİNASYON DENEMESİ YAPMAMA RAĞMEN BAŞARILI OLAMADIM. SÜREKLİ BELLEK HATASI YÜZÜNDEN TÜM İŞLEMLERİ YENİDEN YAPMAK ZORUNDA KALDIM. BEN DE BÖYLE BIRAKMAK ZORUNDA KALDIM. BU YÜZDEN AŞAĞIDAKİ HÜCRE TEST VERİ SETİ ÜZERİNDE TAHMİN YAPMAK İÇİN YAZILMIŞTI AMA ÇALIŞTIRAMAĞIM İÇİN DOĞRULUĞUNDAN EMİN DEĞİLİM."
      ],
      "metadata": {
        "id": "bFby3RTh9aJt"
      }
    },
    {
      "cell_type": "code",
      "source": [
        "# TEST VERİ SETİNİ YÜKLEME\n",
        "test_path = \"/content/test/\"\n",
        "test_df = pd.read_csv(\"/content/sample_submission.csv\")\n",
        "\n",
        "# TEST SETİNDEKİ GÖRÜNTÜLERİ İÇEREN DOSYAYI YÜKLEME\n",
        "test_df['filename'] = test_df.apply(lambda x: (test_path + x[\"id\"] + \".jpg\"), axis=1)\n",
        "\n",
        "# TEST SETİNİ NORMALİZE ETME\n",
        "X_test = np.array([preprocess_image(img_path) for img_path in test_df['filename']])\n",
        "\n",
        "# MODELİN PERFORMANSINI DEĞERLENDİRME\n",
        "y_test_pred = np.argmax(model.predict(X_test), axis=1)\n",
        "\n",
        "# ÖRNEK OLARAK, CONFUSION MATRIX VE SINIFLANDIRMA RAPORU YAZDIRMA\n",
        "conf_matrix = confusion_matrix(test_df['breed_encoded'], y_test_pred)\n",
        "class_report = classification_report(test_df['breed_encoded'], y_test_pred)\n",
        "\n",
        "print(\"Confusion Matrix:\")\n",
        "print(conf_matrix)\n",
        "print(\"\\nClassification Report:\")\n",
        "print(class_report)\n"
      ],
      "metadata": {
        "id": "SfwEE-fG0l0_"
      },
      "execution_count": null,
      "outputs": []
    }
  ]
}